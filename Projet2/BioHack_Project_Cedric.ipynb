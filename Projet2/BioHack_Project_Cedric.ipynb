{
 "cells": [
  {
   "cell_type": "code",
   "execution_count": 42,
   "metadata": {},
   "outputs": [],
   "source": [
    "library(limma)\n",
    "library(Biobase)\n",
    "library(dplyr)"
   ]
  },
  {
   "cell_type": "code",
   "execution_count": 43,
   "metadata": {},
   "outputs": [
    {
     "data": {
      "text/html": [
       "<ol class=list-inline>\n",
       "\t<li>25697</li>\n",
       "\t<li>16</li>\n",
       "</ol>\n"
      ],
      "text/latex": [
       "\\begin{enumerate*}\n",
       "\\item 25697\n",
       "\\item 16\n",
       "\\end{enumerate*}\n"
      ],
      "text/markdown": [
       "1. 25697\n",
       "2. 16\n",
       "\n",
       "\n"
      ],
      "text/plain": [
       "[1] 25697    16"
      ]
     },
     "metadata": {},
     "output_type": "display_data"
    }
   ],
   "source": [
    "data = read.table(\"GSE54878_NP23_WT.tsv\", sep = \"\\t\", header = T, quote=\"\", fill = FALSE)\n",
    "dim(data)"
   ]
  },
  {
   "cell_type": "code",
   "execution_count": 44,
   "metadata": {},
   "outputs": [
    {
     "data": {
      "text/html": [
       "<ol class=list-inline>\n",
       "\t<li>25697</li>\n",
       "\t<li>16</li>\n",
       "</ol>\n"
      ],
      "text/latex": [
       "\\begin{enumerate*}\n",
       "\\item 25697\n",
       "\\item 16\n",
       "\\end{enumerate*}\n"
      ],
      "text/markdown": [
       "1. 25697\n",
       "2. 16\n",
       "\n",
       "\n"
      ],
      "text/plain": [
       "[1] 25697    16"
      ]
     },
     "metadata": {},
     "output_type": "display_data"
    },
    {
     "data": {
      "text/html": [
       "<ol class=list-inline>\n",
       "\t<li>24790</li>\n",
       "\t<li>16</li>\n",
       "</ol>\n"
      ],
      "text/latex": [
       "\\begin{enumerate*}\n",
       "\\item 24790\n",
       "\\item 16\n",
       "\\end{enumerate*}\n"
      ],
      "text/markdown": [
       "1. 24790\n",
       "2. 16\n",
       "\n",
       "\n"
      ],
      "text/plain": [
       "[1] 24790    16"
      ]
     },
     "metadata": {},
     "output_type": "display_data"
    },
    {
     "data": {
      "text/html": [
       "<ol class=list-inline>\n",
       "\t<li>12172</li>\n",
       "\t<li>16</li>\n",
       "</ol>\n"
      ],
      "text/latex": [
       "\\begin{enumerate*}\n",
       "\\item 12172\n",
       "\\item 16\n",
       "\\end{enumerate*}\n"
      ],
      "text/markdown": [
       "1. 12172\n",
       "2. 16\n",
       "\n",
       "\n"
      ],
      "text/plain": [
       "[1] 12172    16"
      ]
     },
     "metadata": {},
     "output_type": "display_data"
    }
   ],
   "source": [
    "dim(data)\n",
    "# print(!is.na(data$Gene.symbol))\n",
    "data <- data[!data$Gene.symbol == \"\",]\n",
    "dim(data)\n",
    "duplicated_rows <- unique(data[duplicated(data$Gene.symbol),])\n",
    "data <- anti_join(data, duplicated_rows, by = c(\"Gene.symbol\"))\n",
    "dim(data)\n",
    "rownames(data) <- data$Gene.symbol"
   ]
  },
  {
   "cell_type": "code",
   "execution_count": 45,
   "metadata": {},
   "outputs": [],
   "source": [
    "drops <- c(\"Gene.symbol\",\"Gene.title\")\n",
    "data <- data[ , !(names(data) %in% drops)]"
   ]
  },
  {
   "cell_type": "code",
   "execution_count": 46,
   "metadata": {},
   "outputs": [
    {
     "data": {
      "text/html": [
       "<table>\n",
       "<thead><tr><th></th><th scope=col>X106THY.TALL</th><th scope=col>J5THY.TALL</th><th scope=col>X748THY.TALL</th><th scope=col>X630THY.TALL</th><th scope=col>X818THY.TALL</th><th scope=col>X632THY.TALL</th><th scope=col>X706THY.TALL</th><th scope=col>X716THY.TALL</th><th scope=col>X841THY.PLK</th><th scope=col>X842THY.PLK</th><th scope=col>X874THY.PLK</th><th scope=col>X838THY.WT</th><th scope=col>X872THY.WT</th><th scope=col>X873THY.WT</th></tr></thead>\n",
       "<tbody>\n",
       "\t<tr><th scope=row>Cradd</th><td> 7.562</td><td> 7.587</td><td> 7.598</td><td> 7.688</td><td> 7.636</td><td> 7.731</td><td> 7.608</td><td> 7.505</td><td> 7.597</td><td> 7.572</td><td> 7.557</td><td> 7.634</td><td> 7.582</td><td> 7.505</td></tr>\n",
       "\t<tr><th scope=row>Tcerg1l</th><td> 7.388</td><td> 7.459</td><td> 7.344</td><td> 7.387</td><td> 7.464</td><td> 7.357</td><td> 7.409</td><td> 7.449</td><td> 7.449</td><td> 7.424</td><td> 7.458</td><td> 7.407</td><td> 7.359</td><td> 7.487</td></tr>\n",
       "\t<tr><th scope=row>Mb21d2</th><td> 7.336</td><td> 7.384</td><td> 7.358</td><td> 7.356</td><td> 7.442</td><td> 7.387</td><td> 7.356</td><td> 7.385</td><td> 7.425</td><td> 7.486</td><td> 7.488</td><td> 7.387</td><td> 7.335</td><td> 7.416</td></tr>\n",
       "\t<tr><th scope=row>Strap</th><td>12.223</td><td>11.974</td><td>12.276</td><td>11.230</td><td>11.371</td><td>11.353</td><td>11.508</td><td>11.284</td><td>11.736</td><td>11.609</td><td>11.248</td><td>11.528</td><td>11.474</td><td>11.250</td></tr>\n",
       "\t<tr><th scope=row>Lman1</th><td> 9.139</td><td> 9.415</td><td> 9.331</td><td> 9.173</td><td> 9.304</td><td> 9.220</td><td> 9.373</td><td> 9.269</td><td> 9.353</td><td> 9.329</td><td> 9.274</td><td> 9.251</td><td> 9.203</td><td> 9.416</td></tr>\n",
       "\t<tr><th scope=row>Slc6a13</th><td> 8.018</td><td> 7.374</td><td> 7.732</td><td> 7.819</td><td> 8.412</td><td> 7.403</td><td> 8.780</td><td> 8.149</td><td> 7.702</td><td> 7.918</td><td> 8.066</td><td> 8.883</td><td> 8.163</td><td> 8.484</td></tr>\n",
       "</tbody>\n",
       "</table>\n"
      ],
      "text/latex": [
       "\\begin{tabular}{r|llllllllllllll}\n",
       "  & X106THY.TALL & J5THY.TALL & X748THY.TALL & X630THY.TALL & X818THY.TALL & X632THY.TALL & X706THY.TALL & X716THY.TALL & X841THY.PLK & X842THY.PLK & X874THY.PLK & X838THY.WT & X872THY.WT & X873THY.WT\\\\\n",
       "\\hline\n",
       "\tCradd &  7.562 &  7.587 &  7.598 &  7.688 &  7.636 &  7.731 &  7.608 &  7.505 &  7.597 &  7.572 &  7.557 &  7.634 &  7.582 &  7.505\\\\\n",
       "\tTcerg1l &  7.388 &  7.459 &  7.344 &  7.387 &  7.464 &  7.357 &  7.409 &  7.449 &  7.449 &  7.424 &  7.458 &  7.407 &  7.359 &  7.487\\\\\n",
       "\tMb21d2 &  7.336 &  7.384 &  7.358 &  7.356 &  7.442 &  7.387 &  7.356 &  7.385 &  7.425 &  7.486 &  7.488 &  7.387 &  7.335 &  7.416\\\\\n",
       "\tStrap & 12.223 & 11.974 & 12.276 & 11.230 & 11.371 & 11.353 & 11.508 & 11.284 & 11.736 & 11.609 & 11.248 & 11.528 & 11.474 & 11.250\\\\\n",
       "\tLman1 &  9.139 &  9.415 &  9.331 &  9.173 &  9.304 &  9.220 &  9.373 &  9.269 &  9.353 &  9.329 &  9.274 &  9.251 &  9.203 &  9.416\\\\\n",
       "\tSlc6a13 &  8.018 &  7.374 &  7.732 &  7.819 &  8.412 &  7.403 &  8.780 &  8.149 &  7.702 &  7.918 &  8.066 &  8.883 &  8.163 &  8.484\\\\\n",
       "\\end{tabular}\n"
      ],
      "text/markdown": [
       "\n",
       "| <!--/--> | X106THY.TALL | J5THY.TALL | X748THY.TALL | X630THY.TALL | X818THY.TALL | X632THY.TALL | X706THY.TALL | X716THY.TALL | X841THY.PLK | X842THY.PLK | X874THY.PLK | X838THY.WT | X872THY.WT | X873THY.WT | \n",
       "|---|---|---|---|---|---|\n",
       "| Cradd |  7.562 |  7.587 |  7.598 |  7.688 |  7.636 |  7.731 |  7.608 |  7.505 |  7.597 |  7.572 |  7.557 |  7.634 |  7.582 |  7.505 | \n",
       "| Tcerg1l |  7.388 |  7.459 |  7.344 |  7.387 |  7.464 |  7.357 |  7.409 |  7.449 |  7.449 |  7.424 |  7.458 |  7.407 |  7.359 |  7.487 | \n",
       "| Mb21d2 |  7.336 |  7.384 |  7.358 |  7.356 |  7.442 |  7.387 |  7.356 |  7.385 |  7.425 |  7.486 |  7.488 |  7.387 |  7.335 |  7.416 | \n",
       "| Strap | 12.223 | 11.974 | 12.276 | 11.230 | 11.371 | 11.353 | 11.508 | 11.284 | 11.736 | 11.609 | 11.248 | 11.528 | 11.474 | 11.250 | \n",
       "| Lman1 |  9.139 |  9.415 |  9.331 |  9.173 |  9.304 |  9.220 |  9.373 |  9.269 |  9.353 |  9.329 |  9.274 |  9.251 |  9.203 |  9.416 | \n",
       "| Slc6a13 |  8.018 |  7.374 |  7.732 |  7.819 |  8.412 |  7.403 |  8.780 |  8.149 |  7.702 |  7.918 |  8.066 |  8.883 |  8.163 |  8.484 | \n",
       "\n",
       "\n"
      ],
      "text/plain": [
       "        X106THY.TALL J5THY.TALL X748THY.TALL X630THY.TALL X818THY.TALL\n",
       "Cradd    7.562        7.587      7.598        7.688        7.636      \n",
       "Tcerg1l  7.388        7.459      7.344        7.387        7.464      \n",
       "Mb21d2   7.336        7.384      7.358        7.356        7.442      \n",
       "Strap   12.223       11.974     12.276       11.230       11.371      \n",
       "Lman1    9.139        9.415      9.331        9.173        9.304      \n",
       "Slc6a13  8.018        7.374      7.732        7.819        8.412      \n",
       "        X632THY.TALL X706THY.TALL X716THY.TALL X841THY.PLK X842THY.PLK\n",
       "Cradd    7.731        7.608        7.505        7.597       7.572     \n",
       "Tcerg1l  7.357        7.409        7.449        7.449       7.424     \n",
       "Mb21d2   7.387        7.356        7.385        7.425       7.486     \n",
       "Strap   11.353       11.508       11.284       11.736      11.609     \n",
       "Lman1    9.220        9.373        9.269        9.353       9.329     \n",
       "Slc6a13  7.403        8.780        8.149        7.702       7.918     \n",
       "        X874THY.PLK X838THY.WT X872THY.WT X873THY.WT\n",
       "Cradd    7.557       7.634      7.582      7.505    \n",
       "Tcerg1l  7.458       7.407      7.359      7.487    \n",
       "Mb21d2   7.488       7.387      7.335      7.416    \n",
       "Strap   11.248      11.528     11.474     11.250    \n",
       "Lman1    9.274       9.251      9.203      9.416    \n",
       "Slc6a13  8.066       8.883      8.163      8.484    "
      ]
     },
     "metadata": {},
     "output_type": "display_data"
    }
   ],
   "source": [
    "t_data <- t(data)\n",
    "head(data)\n",
    "TALL <- data[,1:8]\n",
    "PLK <- data[,9:11]\n",
    "WT <- data[,12:14]"
   ]
  },
  {
   "cell_type": "code",
   "execution_count": 57,
   "metadata": {},
   "outputs": [
    {
     "data": {
      "text/html": [
       "<dl class=dl-horizontal>\n",
       "\t<dt>Cradd</dt>\n",
       "\t\t<dd>7.57366666666667</dd>\n",
       "\t<dt>Tcerg1l</dt>\n",
       "\t\t<dd>7.41766666666667</dd>\n",
       "\t<dt>Mb21d2</dt>\n",
       "\t\t<dd>7.37933333333333</dd>\n",
       "\t<dt>Strap</dt>\n",
       "\t\t<dd>11.4173333333333</dd>\n",
       "\t<dt>Lman1</dt>\n",
       "\t\t<dd>9.29</dd>\n",
       "\t<dt>Slc6a13</dt>\n",
       "\t\t<dd>8.51</dd>\n",
       "</dl>\n"
      ],
      "text/latex": [
       "\\begin{description*}\n",
       "\\item[Cradd] 7.57366666666667\n",
       "\\item[Tcerg1l] 7.41766666666667\n",
       "\\item[Mb21d2] 7.37933333333333\n",
       "\\item[Strap] 11.4173333333333\n",
       "\\item[Lman1] 9.29\n",
       "\\item[Slc6a13] 8.51\n",
       "\\end{description*}\n"
      ],
      "text/markdown": [
       "Cradd\n",
       ":   7.57366666666667Tcerg1l\n",
       ":   7.41766666666667Mb21d2\n",
       ":   7.37933333333333Strap\n",
       ":   11.4173333333333Lman1\n",
       ":   9.29Slc6a13\n",
       ":   8.51\n",
       "\n"
      ],
      "text/plain": [
       "    Cradd   Tcerg1l    Mb21d2     Strap     Lman1   Slc6a13 \n",
       " 7.573667  7.417667  7.379333 11.417333  9.290000  8.510000 "
      ]
     },
     "metadata": {},
     "output_type": "display_data"
    }
   ],
   "source": [
    "TALL_mean = rowMeans(TALL)\n",
    "PLK_mean = rowMeans(PLK)\n",
    "WT_mean = rowMeans(WT)\n",
    "\n",
    "head(WT_mean)"
   ]
  },
  {
   "cell_type": "code",
   "execution_count": 48,
   "metadata": {},
   "outputs": [],
   "source": [
    "TALL_vs_WT = TALL_mean - WT_mean\n",
    "PLK_vs_WT = PLK_mean - WT_mean"
   ]
  },
  {
   "cell_type": "code",
   "execution_count": 61,
   "metadata": {},
   "outputs": [],
   "source": [
    "e = .5\n",
    "foldChange_TALL = TALL_vs_WT[abs(TALL_vs_WT) > (1 + e)]\n",
    "foldChange_PLK = PLK_vs_WT[abs(PLK_vs_WT) > (1 + e)]"
   ]
  },
  {
   "cell_type": "code",
   "execution_count": 63,
   "metadata": {},
   "outputs": [
    {
     "name": "stdout",
     "output_type": "stream",
     "text": [
      "[1] \"TALL\"\n"
     ]
    },
    {
     "data": {
      "text/html": [
       "196"
      ],
      "text/latex": [
       "196"
      ],
      "text/markdown": [
       "196"
      ],
      "text/plain": [
       "[1] 196"
      ]
     },
     "metadata": {},
     "output_type": "display_data"
    },
    {
     "name": "stdout",
     "output_type": "stream",
     "text": [
      "[1] \"PLK\"\n"
     ]
    },
    {
     "data": {
      "text/html": [
       "9"
      ],
      "text/latex": [
       "9"
      ],
      "text/markdown": [
       "9"
      ],
      "text/plain": [
       "[1] 9"
      ]
     },
     "metadata": {},
     "output_type": "display_data"
    },
    {
     "data": {
      "text/html": [
       "<dl class=dl-horizontal>\n",
       "\t<dt>Hoxa5</dt>\n",
       "\t\t<dd>3.45833333333333</dd>\n",
       "\t<dt>Meis1</dt>\n",
       "\t\t<dd>1.72933333333333</dd>\n",
       "\t<dt>Eif2s3y</dt>\n",
       "\t\t<dd>-2.67966666666667</dd>\n",
       "\t<dt>Slc5a9</dt>\n",
       "\t\t<dd>2.488</dd>\n",
       "\t<dt>Hoxa7</dt>\n",
       "\t\t<dd>2.81033333333333</dd>\n",
       "\t<dt>Insl6</dt>\n",
       "\t\t<dd>2.74133333333333</dd>\n",
       "\t<dt>Myl10</dt>\n",
       "\t\t<dd>3.748</dd>\n",
       "\t<dt>Fgfbp1</dt>\n",
       "\t\t<dd>1.603</dd>\n",
       "\t<dt>Slc7a11</dt>\n",
       "\t\t<dd>-1.50233333333333</dd>\n",
       "</dl>\n"
      ],
      "text/latex": [
       "\\begin{description*}\n",
       "\\item[Hoxa5] 3.45833333333333\n",
       "\\item[Meis1] 1.72933333333333\n",
       "\\item[Eif2s3y] -2.67966666666667\n",
       "\\item[Slc5a9] 2.488\n",
       "\\item[Hoxa7] 2.81033333333333\n",
       "\\item[Insl6] 2.74133333333333\n",
       "\\item[Myl10] 3.748\n",
       "\\item[Fgfbp1] 1.603\n",
       "\\item[Slc7a11] -1.50233333333333\n",
       "\\end{description*}\n"
      ],
      "text/markdown": [
       "Hoxa5\n",
       ":   3.45833333333333Meis1\n",
       ":   1.72933333333333Eif2s3y\n",
       ":   -2.67966666666667Slc5a9\n",
       ":   2.488Hoxa7\n",
       ":   2.81033333333333Insl6\n",
       ":   2.74133333333333Myl10\n",
       ":   3.748Fgfbp1\n",
       ":   1.603Slc7a11\n",
       ":   -1.50233333333333\n",
       "\n"
      ],
      "text/plain": [
       "    Hoxa5     Meis1   Eif2s3y    Slc5a9     Hoxa7     Insl6     Myl10    Fgfbp1 \n",
       " 3.458333  1.729333 -2.679667  2.488000  2.810333  2.741333  3.748000  1.603000 \n",
       "  Slc7a11 \n",
       "-1.502333 "
      ]
     },
     "metadata": {},
     "output_type": "display_data"
    }
   ],
   "source": [
    "print(\"TALL\")\n",
    "length(foldChange_TALL)\n",
    "# foldChange_TALL\n",
    "print(\"PLK\")\n",
    "length(foldChange_PLK)\n",
    "foldChange_PLK\n",
    "\n",
    "write(rownames(foldChange_TALL), \"TALL_Genes\")\n",
    "write(rownames(foldChange_PLK), \"PLK_Genes\")"
   ]
  }
 ],
 "metadata": {
  "kernelspec": {
   "display_name": "R",
   "language": "R",
   "name": "ir"
  },
  "language_info": {
   "codemirror_mode": "r",
   "file_extension": ".r",
   "mimetype": "text/x-r-source",
   "name": "R",
   "pygments_lexer": "r",
   "version": "3.4.4"
  }
 },
 "nbformat": 4,
 "nbformat_minor": 2
}
